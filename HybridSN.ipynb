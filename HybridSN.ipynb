{
  "nbformat": 4,
  "nbformat_minor": 0,
  "metadata": {
    "colab": {
      "name": "HybridSN.ipynb",
      "provenance": [],
      "collapsed_sections": []
    },
    "kernelspec": {
      "name": "python3",
      "display_name": "Python 3"
    },
    "accelerator": "GPU"
  },
  "cells": [
    {
      "cell_type": "markdown",
      "metadata": {
        "id": "wM7VBIQ8oBiH",
        "colab_type": "text"
      },
      "source": [
        "# HybridSN 高光谱分类  \n",
        "首先取得数据，并引入基本函数库。"
      ]
    },
    {
      "cell_type": "code",
      "metadata": {
        "id": "koFbItdTn5kv",
        "colab_type": "code",
        "colab": {
          "base_uri": "https://localhost:8080/",
          "height": 513
        },
        "outputId": "beb96920-3467-405e-942f-b7da47f06569"
      },
      "source": [
        "! wget http://www.ehu.eus/ccwintco/uploads/6/67/Indian_pines_corrected.mat\n",
        "! wget http://www.ehu.eus/ccwintco/uploads/c/c4/Indian_pines_gt.mat\n",
        "! pip install spectral"
      ],
      "execution_count": 2,
      "outputs": [
        {
          "output_type": "stream",
          "text": [
            "--2020-08-07 16:24:09--  http://www.ehu.eus/ccwintco/uploads/6/67/Indian_pines_corrected.mat\n",
            "Resolving www.ehu.eus (www.ehu.eus)... 158.227.0.65, 2001:720:1410::65\n",
            "Connecting to www.ehu.eus (www.ehu.eus)|158.227.0.65|:80... connected.\n",
            "HTTP request sent, awaiting response... 200 OK\n",
            "Length: 5953527 (5.7M) [text/plain]\n",
            "Saving to: ‘Indian_pines_corrected.mat’\n",
            "\n",
            "Indian_pines_correc 100%[===================>]   5.68M   752KB/s    in 9.0s    \n",
            "\n",
            "2020-08-07 16:24:19 (643 KB/s) - ‘Indian_pines_corrected.mat’ saved [5953527/5953527]\n",
            "\n",
            "--2020-08-07 16:24:20--  http://www.ehu.eus/ccwintco/uploads/c/c4/Indian_pines_gt.mat\n",
            "Resolving www.ehu.eus (www.ehu.eus)... 158.227.0.65, 2001:720:1410::65\n",
            "Connecting to www.ehu.eus (www.ehu.eus)|158.227.0.65|:80... connected.\n",
            "HTTP request sent, awaiting response... 200 OK\n",
            "Length: 1125 (1.1K) [text/plain]\n",
            "Saving to: ‘Indian_pines_gt.mat’\n",
            "\n",
            "Indian_pines_gt.mat 100%[===================>]   1.10K  --.-KB/s    in 0s      \n",
            "\n",
            "2020-08-07 16:24:20 (162 MB/s) - ‘Indian_pines_gt.mat’ saved [1125/1125]\n",
            "\n",
            "Collecting spectral\n",
            "\u001b[?25l  Downloading https://files.pythonhosted.org/packages/ce/06/6a89035cde4eac3ed94e1888f850af653386e8ee827edc72ffc8e445bcb7/spectral-0.22.1-py3-none-any.whl (212kB)\n",
            "\u001b[K     |████████████████████████████████| 215kB 3.3MB/s \n",
            "\u001b[?25hRequirement already satisfied: numpy in /usr/local/lib/python3.6/dist-packages (from spectral) (1.18.5)\n",
            "Installing collected packages: spectral\n",
            "Successfully installed spectral-0.22.1\n"
          ],
          "name": "stdout"
        }
      ]
    },
    {
      "cell_type": "code",
      "metadata": {
        "id": "XVouTRiMoKGz",
        "colab_type": "code",
        "colab": {}
      },
      "source": [
        "import numpy as np\n",
        "import matplotlib.pyplot as plt\n",
        "import scipy.io as sio\n",
        "from sklearn.decomposition import PCA\n",
        "from sklearn.model_selection import train_test_split\n",
        "from sklearn.metrics import confusion_matrix, accuracy_score, classification_report, cohen_kappa_score\n",
        "import spectral\n",
        "import torch\n",
        "import torchvision\n",
        "import torch.nn as nn\n",
        "import torch.nn.functional as F\n",
        "import torch.optim as optim"
      ],
      "execution_count": 3,
      "outputs": []
    },
    {
      "cell_type": "markdown",
      "metadata": {
        "id": "cKHRU3fIoNfz",
        "colab_type": "text"
      },
      "source": [
        "## 定义 HybridSN 类  \n",
        "![alt text](https://camo.githubusercontent.com/f7db2d6ed93212a9b4d31c2826e38a2bdd964311/68747470733a2f2f67616f707572737569742e6f73732d636e2d6265696a696e672e616c6979756e63732e636f6d2f3230323030332f32303230303330343230333731302e6a7067)  \n",
        "\n",
        "三维卷积部分：\n",
        "\n",
        "conv1：（1, 30, 25, 25）， 8个 7x3x3 的卷积核 ==>  （8, 24, 23, 23）  \n",
        "conv2：（8, 24, 23, 23）， 16个 5x3x3 的卷积核 ==>（16, 20, 21, 21）  \n",
        "conv3：（16, 20, 21, 21），32个 3x3x3 的卷积核 ==>（32, 18, 19, 19）  \n",
        "接下来要进行二维卷积，因此把前面的 32*18 reshape 一下，得到 （576, 19, 19）  \n",
        "\n",
        "二维卷积：（576, 19, 19） 64个 3x3 的卷积核，得到 （64, 17, 17）\n",
        "\n",
        "接下来是一个 flatten 操作，变为 18496 维的向量，\n",
        "\n",
        "接下来依次为256，128节点的全连接层，都使用比例为0.4的 Dropout，\n",
        "\n",
        "最后输出为 16 个节点，是最终的分类类别数。\n",
        "\n",
        "下面是 HybridSN 类的代码："
      ]
    },
    {
      "cell_type": "code",
      "metadata": {
        "id": "zNa1pSjCoYyj",
        "colab_type": "code",
        "colab": {
          "base_uri": "https://localhost:8080/",
          "height": 88
        },
        "outputId": "a3d5c3f2-aeb9-400f-f126-4eb2c6a025b6"
      },
      "source": [
        "class_num = 16\n",
        "\n",
        "class HybridSN(nn.Module):\n",
        "\n",
        "  def __init__(self):\n",
        "    super(HybridSN, self).__init__()\n",
        "    self.conv1_3d = nn.Conv3d(1,8,(7,3,3))\n",
        "    self.relu1 = nn.ReLU()\n",
        "\n",
        "    self.conv2_3d = nn.Conv3d(8,16,(5,3,3))\n",
        "    self.relu2 = nn.ReLU()\n",
        "\n",
        "    self.conv3_3d = nn.Conv3d(16,32,(3,3,3))\n",
        "    self.relu3 = nn.ReLU()\n",
        "\n",
        "    self.conv4_2d = nn.Conv2d(576,64,(3,3))\n",
        "    self.relu4 = nn.ReLU()\n",
        "\n",
        "    self.fn1 = nn.Linear(18496,256)\n",
        "    self.fn2 = nn.Linear(256,128)\n",
        "\n",
        "    self.fn_out = nn.Linear(128,16)\n",
        "\n",
        "    self.drop = nn.Dropout(p = 0.4)\n",
        "    # emm我在这里使用了softmax之后，网络在训练过程中loss就不再下降了，不知道具体是为啥，很奇怪，，\n",
        "    # self.soft = nn.Softmax(dim = 1)\n",
        "\n",
        "  def forward(self, x):\n",
        "    out = self.conv1_3d(x)\n",
        "    out = self.relu1(out)\n",
        "    out = self.conv2_3d(out)\n",
        "    out = self.relu2(out)\n",
        "    out = self.conv3_3d(out)\n",
        "    out = self.relu3(out)\n",
        "\n",
        "    b,x,y,m,n = out.size()\n",
        "    out = out.view(b,x*y,m,n)\n",
        "\n",
        "    out = self.conv4_2d(out)\n",
        "    out = self.relu4(out)\n",
        "\n",
        "    # 进行重组，以b行，d列的形式存放（d自动计算）\n",
        "    out = out.reshape(b,-1)\n",
        "\n",
        "    out = self.fn1(out)\n",
        "    out = self.drop(out)\n",
        "    out = self.fn2(out)\n",
        "    out = self.drop(out)\n",
        "\n",
        "    out = self.fn_out(out)\n",
        "\n",
        "    # out = self.soft(out)\n",
        "\n",
        "    return out\n",
        "\n",
        "# 随机输入，测试网络结构是否通\n",
        "x = torch.randn(1, 1, 30, 25, 25)\n",
        "net = HybridSN()\n",
        "y = net(x)\n",
        "print(y.shape)\n",
        "print(y)"
      ],
      "execution_count": 19,
      "outputs": [
        {
          "output_type": "stream",
          "text": [
            "torch.Size([1, 16])\n",
            "tensor([[ 0.0598,  0.1029, -0.0016,  0.0010,  0.0455, -0.0579, -0.0723, -0.0484,\n",
            "          0.0689,  0.0133,  0.0828, -0.0818, -0.0898, -0.0455, -0.0495,  0.1024]],\n",
            "       grad_fn=<AddmmBackward>)\n"
          ],
          "name": "stdout"
        }
      ]
    },
    {
      "cell_type": "markdown",
      "metadata": {
        "id": "yQmE9RAXuv3g",
        "colab_type": "text"
      },
      "source": [
        "## 创建数据集\n",
        "首先对高光谱数据实施PCA降维；然后创建 keras 方便处理的数据格式；然后随机抽取 10% 数据做为训练集，剩余的做为测试集。\n",
        "\n",
        "首先定义基本函数："
      ]
    },
    {
      "cell_type": "code",
      "metadata": {
        "id": "CXlB3AD3uxu6",
        "colab_type": "code",
        "colab": {}
      },
      "source": [
        "# 对高光谱数据 X 应用 PCA 变换\n",
        "def applyPCA(X, numComponents):\n",
        "    newX = np.reshape(X, (-1, X.shape[2]))\n",
        "    pca = PCA(n_components=numComponents, whiten=True)\n",
        "    newX = pca.fit_transform(newX)\n",
        "    newX = np.reshape(newX, (X.shape[0], X.shape[1], numComponents))\n",
        "    return newX\n",
        "\n",
        "# 对单个像素周围提取 patch 时，边缘像素就无法取了，因此，给这部分像素进行 padding 操作\n",
        "def padWithZeros(X, margin=2):\n",
        "    newX = np.zeros((X.shape[0] + 2 * margin, X.shape[1] + 2* margin, X.shape[2]))\n",
        "    x_offset = margin\n",
        "    y_offset = margin\n",
        "    newX[x_offset:X.shape[0] + x_offset, y_offset:X.shape[1] + y_offset, :] = X\n",
        "    return newX\n",
        "\n",
        "# 在每个像素周围提取 patch ，然后创建成符合 keras 处理的格式\n",
        "def createImageCubes(X, y, windowSize=5, removeZeroLabels = True):\n",
        "    # 给 X 做 padding\n",
        "    margin = int((windowSize - 1) / 2)\n",
        "    zeroPaddedX = padWithZeros(X, margin=margin)\n",
        "    # split patches\n",
        "    patchesData = np.zeros((X.shape[0] * X.shape[1], windowSize, windowSize, X.shape[2]))\n",
        "    patchesLabels = np.zeros((X.shape[0] * X.shape[1]))\n",
        "    patchIndex = 0\n",
        "    for r in range(margin, zeroPaddedX.shape[0] - margin):\n",
        "        for c in range(margin, zeroPaddedX.shape[1] - margin):\n",
        "            patch = zeroPaddedX[r - margin:r + margin + 1, c - margin:c + margin + 1]   \n",
        "            patchesData[patchIndex, :, :, :] = patch\n",
        "            patchesLabels[patchIndex] = y[r-margin, c-margin]\n",
        "            patchIndex = patchIndex + 1\n",
        "    if removeZeroLabels:\n",
        "        patchesData = patchesData[patchesLabels>0,:,:,:]\n",
        "        patchesLabels = patchesLabels[patchesLabels>0]\n",
        "        patchesLabels -= 1\n",
        "    return patchesData, patchesLabels\n",
        "\n",
        "def splitTrainTestSet(X, y, testRatio, randomState=345):\n",
        "    X_train, X_test, y_train, y_test = train_test_split(X, y, test_size=testRatio, random_state=randomState, stratify=y)\n",
        "    return X_train, X_test, y_train, y_test"
      ],
      "execution_count": 5,
      "outputs": []
    },
    {
      "cell_type": "markdown",
      "metadata": {
        "id": "oIRRBVkEu3CM",
        "colab_type": "text"
      },
      "source": [
        "下面读取并创建数据集："
      ]
    },
    {
      "cell_type": "code",
      "metadata": {
        "id": "hQFlh08Wu3d8",
        "colab_type": "code",
        "colab": {
          "base_uri": "https://localhost:8080/",
          "height": 318
        },
        "outputId": "a4820077-7bc8-4f84-b2ac-5ea31e4d9571"
      },
      "source": [
        "# 地物类别\n",
        "class_num = 16\n",
        "X = sio.loadmat('Indian_pines_corrected.mat')['indian_pines_corrected']\n",
        "y = sio.loadmat('Indian_pines_gt.mat')['indian_pines_gt']\n",
        "\n",
        "# 用于测试样本的比例\n",
        "test_ratio = 0.90\n",
        "# 每个像素周围提取 patch 的尺寸\n",
        "patch_size = 25\n",
        "# 使用 PCA 降维，得到主成分的数量\n",
        "pca_components = 30\n",
        "\n",
        "print('Hyperspectral data shape: ', X.shape)\n",
        "print('Label shape: ', y.shape)\n",
        "\n",
        "print('\\n... ... PCA tranformation ... ...')\n",
        "X_pca = applyPCA(X, numComponents=pca_components)\n",
        "print('Data shape after PCA: ', X_pca.shape)\n",
        "\n",
        "print('\\n... ... create data cubes ... ...')\n",
        "X_pca, y = createImageCubes(X_pca, y, windowSize=patch_size)\n",
        "print('Data cube X shape: ', X_pca.shape)\n",
        "print('Data cube y shape: ', y.shape)\n",
        "\n",
        "print('\\n... ... create train & test data ... ...')\n",
        "Xtrain, Xtest, ytrain, ytest = splitTrainTestSet(X_pca, y, test_ratio)\n",
        "print('Xtrain shape: ', Xtrain.shape)\n",
        "print('Xtest  shape: ', Xtest.shape)\n",
        "\n",
        "# 改变 Xtrain, Ytrain 的形状，以符合 keras 的要求\n",
        "Xtrain = Xtrain.reshape(-1, patch_size, patch_size, pca_components, 1)\n",
        "Xtest  = Xtest.reshape(-1, patch_size, patch_size, pca_components, 1)\n",
        "print('before transpose: Xtrain shape: ', Xtrain.shape) \n",
        "print('before transpose: Xtest  shape: ', Xtest.shape) \n",
        "\n",
        "# 为了适应 pytorch 结构，数据要做 transpose\n",
        "Xtrain = Xtrain.transpose(0, 4, 3, 1, 2)\n",
        "Xtest  = Xtest.transpose(0, 4, 3, 1, 2)\n",
        "print('after transpose: Xtrain shape: ', Xtrain.shape) \n",
        "print('after transpose: Xtest  shape: ', Xtest.shape) \n",
        "\n",
        "\n",
        "\"\"\" Training dataset\"\"\"\n",
        "class TrainDS(torch.utils.data.Dataset): \n",
        "    def __init__(self):\n",
        "        self.len = Xtrain.shape[0]\n",
        "        self.x_data = torch.FloatTensor(Xtrain)\n",
        "        self.y_data = torch.LongTensor(ytrain)        \n",
        "    def __getitem__(self, index):\n",
        "        # 根据索引返回数据和对应的标签\n",
        "        return self.x_data[index], self.y_data[index]\n",
        "    def __len__(self): \n",
        "        # 返回文件数据的数目\n",
        "        return self.len\n",
        "\n",
        "\"\"\" Testing dataset\"\"\"\n",
        "class TestDS(torch.utils.data.Dataset): \n",
        "    def __init__(self):\n",
        "        self.len = Xtest.shape[0]\n",
        "        self.x_data = torch.FloatTensor(Xtest)\n",
        "        self.y_data = torch.LongTensor(ytest)\n",
        "    def __getitem__(self, index):\n",
        "        # 根据索引返回数据和对应的标签\n",
        "        return self.x_data[index], self.y_data[index]\n",
        "    def __len__(self): \n",
        "        # 返回文件数据的数目\n",
        "        return self.len\n",
        "\n",
        "# 创建 trainloader 和 testloader\n",
        "trainset = TrainDS()\n",
        "testset  = TestDS()\n",
        "train_loader = torch.utils.data.DataLoader(dataset=trainset, batch_size=128, shuffle=True, num_workers=2)\n",
        "test_loader  = torch.utils.data.DataLoader(dataset=testset,  batch_size=128, shuffle=False, num_workers=2)"
      ],
      "execution_count": 6,
      "outputs": [
        {
          "output_type": "stream",
          "text": [
            "Hyperspectral data shape:  (145, 145, 200)\n",
            "Label shape:  (145, 145)\n",
            "\n",
            "... ... PCA tranformation ... ...\n",
            "Data shape after PCA:  (145, 145, 30)\n",
            "\n",
            "... ... create data cubes ... ...\n",
            "Data cube X shape:  (10249, 25, 25, 30)\n",
            "Data cube y shape:  (10249,)\n",
            "\n",
            "... ... create train & test data ... ...\n",
            "Xtrain shape:  (1024, 25, 25, 30)\n",
            "Xtest  shape:  (9225, 25, 25, 30)\n",
            "before transpose: Xtrain shape:  (1024, 25, 25, 30, 1)\n",
            "before transpose: Xtest  shape:  (9225, 25, 25, 30, 1)\n",
            "after transpose: Xtrain shape:  (1024, 1, 30, 25, 25)\n",
            "after transpose: Xtest  shape:  (9225, 1, 30, 25, 25)\n"
          ],
          "name": "stdout"
        }
      ]
    },
    {
      "cell_type": "markdown",
      "metadata": {
        "id": "3_7Wpk-iu8ZM",
        "colab_type": "text"
      },
      "source": [
        "## 开始训练"
      ]
    },
    {
      "cell_type": "code",
      "metadata": {
        "id": "N_TYj6UDu-ZK",
        "colab_type": "code",
        "colab": {
          "base_uri": "https://localhost:8080/",
          "height": 1000
        },
        "outputId": "66d4993a-8e1c-472d-fdd0-f5bf44ee450e"
      },
      "source": [
        "# 使用GPU训练，可以在菜单 \"代码执行工具\" -> \"更改运行时类型\" 里进行设置\n",
        "device = torch.device(\"cuda:0\" if torch.cuda.is_available() else \"cpu\")\n",
        "\n",
        "# 网络放到GPU上\n",
        "net = HybridSN().to(device)\n",
        "criterion = nn.CrossEntropyLoss()\n",
        "optimizer = optim.Adam(net.parameters(), lr=0.001)\n",
        "\n",
        "# 开始训练\n",
        "total_loss = 0\n",
        "for epoch in range(100):\n",
        "    for i, (inputs, labels) in enumerate(train_loader):\n",
        "        inputs = inputs.to(device)\n",
        "        labels = labels.to(device)\n",
        "        # 优化器梯度归零\n",
        "        optimizer.zero_grad()\n",
        "        # 正向传播 +　反向传播 + 优化 \n",
        "        outputs = net(inputs)\n",
        "        loss = criterion(outputs, labels)\n",
        "        loss.backward()\n",
        "        optimizer.step()\n",
        "        total_loss += loss.item()\n",
        "    print('[Epoch: %d]   [loss avg: %.4f]   [current loss: %.4f]' %(epoch + 1, total_loss/(epoch+1), loss.item()))\n",
        "\n",
        "print('Finished Training')"
      ],
      "execution_count": 20,
      "outputs": [
        {
          "output_type": "stream",
          "text": [
            "[Epoch: 1]   [loss avg: 23.9961]   [current loss: 2.7187]\n",
            "[Epoch: 2]   [loss avg: 22.1875]   [current loss: 2.5401]\n",
            "[Epoch: 3]   [loss avg: 21.2713]   [current loss: 2.3382]\n",
            "[Epoch: 4]   [loss avg: 20.6892]   [current loss: 2.4233]\n",
            "[Epoch: 5]   [loss avg: 20.2257]   [current loss: 2.2745]\n",
            "[Epoch: 6]   [loss avg: 19.8066]   [current loss: 2.1921]\n",
            "[Epoch: 7]   [loss avg: 19.4148]   [current loss: 2.0156]\n",
            "[Epoch: 8]   [loss avg: 19.0070]   [current loss: 2.0776]\n",
            "[Epoch: 9]   [loss avg: 18.5341]   [current loss: 1.7395]\n",
            "[Epoch: 10]   [loss avg: 18.0488]   [current loss: 1.5505]\n",
            "[Epoch: 11]   [loss avg: 17.4910]   [current loss: 1.2480]\n",
            "[Epoch: 12]   [loss avg: 16.8457]   [current loss: 1.0717]\n",
            "[Epoch: 13]   [loss avg: 16.1763]   [current loss: 1.1011]\n",
            "[Epoch: 14]   [loss avg: 15.4906]   [current loss: 0.7729]\n",
            "[Epoch: 15]   [loss avg: 14.8442]   [current loss: 0.7404]\n",
            "[Epoch: 16]   [loss avg: 14.2125]   [current loss: 0.5002]\n",
            "[Epoch: 17]   [loss avg: 13.5929]   [current loss: 0.4034]\n",
            "[Epoch: 18]   [loss avg: 12.9985]   [current loss: 0.3185]\n",
            "[Epoch: 19]   [loss avg: 12.4624]   [current loss: 0.4717]\n",
            "[Epoch: 20]   [loss avg: 11.9666]   [current loss: 0.2623]\n",
            "[Epoch: 21]   [loss avg: 11.4872]   [current loss: 0.1954]\n",
            "[Epoch: 22]   [loss avg: 11.0354]   [current loss: 0.1402]\n",
            "[Epoch: 23]   [loss avg: 10.6024]   [current loss: 0.2509]\n",
            "[Epoch: 24]   [loss avg: 10.2069]   [current loss: 0.1251]\n",
            "[Epoch: 25]   [loss avg: 9.8302]   [current loss: 0.1127]\n",
            "[Epoch: 26]   [loss avg: 9.4722]   [current loss: 0.0691]\n",
            "[Epoch: 27]   [loss avg: 9.1420]   [current loss: 0.0729]\n",
            "[Epoch: 28]   [loss avg: 8.8300]   [current loss: 0.0498]\n",
            "[Epoch: 29]   [loss avg: 8.5513]   [current loss: 0.0991]\n",
            "[Epoch: 30]   [loss avg: 8.2897]   [current loss: 0.0623]\n",
            "[Epoch: 31]   [loss avg: 8.0456]   [current loss: 0.0879]\n",
            "[Epoch: 32]   [loss avg: 7.8143]   [current loss: 0.0183]\n",
            "[Epoch: 33]   [loss avg: 7.5947]   [current loss: 0.0519]\n",
            "[Epoch: 34]   [loss avg: 7.3866]   [current loss: 0.0429]\n",
            "[Epoch: 35]   [loss avg: 7.1849]   [current loss: 0.0280]\n",
            "[Epoch: 36]   [loss avg: 6.9904]   [current loss: 0.0492]\n",
            "[Epoch: 37]   [loss avg: 6.8084]   [current loss: 0.0519]\n",
            "[Epoch: 38]   [loss avg: 6.6369]   [current loss: 0.0591]\n",
            "[Epoch: 39]   [loss avg: 6.4745]   [current loss: 0.0315]\n",
            "[Epoch: 40]   [loss avg: 6.3241]   [current loss: 0.0346]\n",
            "[Epoch: 41]   [loss avg: 6.1756]   [current loss: 0.0025]\n",
            "[Epoch: 42]   [loss avg: 6.0353]   [current loss: 0.0048]\n",
            "[Epoch: 43]   [loss avg: 5.9012]   [current loss: 0.0456]\n",
            "[Epoch: 44]   [loss avg: 5.7729]   [current loss: 0.0748]\n",
            "[Epoch: 45]   [loss avg: 5.6498]   [current loss: 0.0152]\n",
            "[Epoch: 46]   [loss avg: 5.5303]   [current loss: 0.0169]\n",
            "[Epoch: 47]   [loss avg: 5.4158]   [current loss: 0.0079]\n",
            "[Epoch: 48]   [loss avg: 5.3062]   [current loss: 0.0104]\n",
            "[Epoch: 49]   [loss avg: 5.2030]   [current loss: 0.0147]\n",
            "[Epoch: 50]   [loss avg: 5.1041]   [current loss: 0.0091]\n",
            "[Epoch: 51]   [loss avg: 5.0056]   [current loss: 0.0034]\n",
            "[Epoch: 52]   [loss avg: 4.9135]   [current loss: 0.1272]\n",
            "[Epoch: 53]   [loss avg: 4.8236]   [current loss: 0.0060]\n",
            "[Epoch: 54]   [loss avg: 4.7389]   [current loss: 0.0803]\n",
            "[Epoch: 55]   [loss avg: 4.6554]   [current loss: 0.0187]\n",
            "[Epoch: 56]   [loss avg: 4.5814]   [current loss: 0.0967]\n",
            "[Epoch: 57]   [loss avg: 4.5143]   [current loss: 0.3514]\n",
            "[Epoch: 58]   [loss avg: 4.4481]   [current loss: 0.0522]\n",
            "[Epoch: 59]   [loss avg: 4.3788]   [current loss: 0.0487]\n",
            "[Epoch: 60]   [loss avg: 4.3125]   [current loss: 0.0048]\n",
            "[Epoch: 61]   [loss avg: 4.2465]   [current loss: 0.0323]\n",
            "[Epoch: 62]   [loss avg: 4.1820]   [current loss: 0.0172]\n",
            "[Epoch: 63]   [loss avg: 4.1177]   [current loss: 0.0060]\n",
            "[Epoch: 64]   [loss avg: 4.0562]   [current loss: 0.0053]\n",
            "[Epoch: 65]   [loss avg: 3.9953]   [current loss: 0.0054]\n",
            "[Epoch: 66]   [loss avg: 3.9364]   [current loss: 0.0130]\n",
            "[Epoch: 67]   [loss avg: 3.8786]   [current loss: 0.0174]\n",
            "[Epoch: 68]   [loss avg: 3.8226]   [current loss: 0.0043]\n",
            "[Epoch: 69]   [loss avg: 3.7696]   [current loss: 0.0031]\n",
            "[Epoch: 70]   [loss avg: 3.7170]   [current loss: 0.0003]\n",
            "[Epoch: 71]   [loss avg: 3.6675]   [current loss: 0.0137]\n",
            "[Epoch: 72]   [loss avg: 3.6192]   [current loss: 0.0085]\n",
            "[Epoch: 73]   [loss avg: 3.5711]   [current loss: 0.0009]\n",
            "[Epoch: 74]   [loss avg: 3.5240]   [current loss: 0.0006]\n",
            "[Epoch: 75]   [loss avg: 3.4793]   [current loss: 0.0015]\n",
            "[Epoch: 76]   [loss avg: 3.4352]   [current loss: 0.0081]\n",
            "[Epoch: 77]   [loss avg: 3.3919]   [current loss: 0.0233]\n",
            "[Epoch: 78]   [loss avg: 3.3498]   [current loss: 0.0509]\n",
            "[Epoch: 79]   [loss avg: 3.3096]   [current loss: 0.0013]\n",
            "[Epoch: 80]   [loss avg: 3.2710]   [current loss: 0.0168]\n",
            "[Epoch: 81]   [loss avg: 3.2360]   [current loss: 0.0685]\n",
            "[Epoch: 82]   [loss avg: 3.1997]   [current loss: 0.0332]\n",
            "[Epoch: 83]   [loss avg: 3.1657]   [current loss: 0.0329]\n",
            "[Epoch: 84]   [loss avg: 3.1304]   [current loss: 0.0292]\n",
            "[Epoch: 85]   [loss avg: 3.0949]   [current loss: 0.0128]\n",
            "[Epoch: 86]   [loss avg: 3.0595]   [current loss: 0.0051]\n",
            "[Epoch: 87]   [loss avg: 3.0263]   [current loss: 0.0712]\n",
            "[Epoch: 88]   [loss avg: 2.9932]   [current loss: 0.0011]\n",
            "[Epoch: 89]   [loss avg: 2.9604]   [current loss: 0.0172]\n",
            "[Epoch: 90]   [loss avg: 2.9282]   [current loss: 0.0081]\n",
            "[Epoch: 91]   [loss avg: 2.8975]   [current loss: 0.0091]\n",
            "[Epoch: 92]   [loss avg: 2.8673]   [current loss: 0.0055]\n",
            "[Epoch: 93]   [loss avg: 2.8375]   [current loss: 0.0500]\n",
            "[Epoch: 94]   [loss avg: 2.8080]   [current loss: 0.0080]\n",
            "[Epoch: 95]   [loss avg: 2.7794]   [current loss: 0.0143]\n",
            "[Epoch: 96]   [loss avg: 2.7511]   [current loss: 0.0075]\n",
            "[Epoch: 97]   [loss avg: 2.7238]   [current loss: 0.0023]\n",
            "[Epoch: 98]   [loss avg: 2.6967]   [current loss: 0.0066]\n",
            "[Epoch: 99]   [loss avg: 2.6712]   [current loss: 0.0180]\n",
            "[Epoch: 100]   [loss avg: 2.6457]   [current loss: 0.0321]\n",
            "Finished Training\n"
          ],
          "name": "stdout"
        }
      ]
    },
    {
      "cell_type": "markdown",
      "metadata": {
        "id": "Vk8iF7iyvNpD",
        "colab_type": "text"
      },
      "source": [
        "## 模型测试"
      ]
    },
    {
      "cell_type": "code",
      "metadata": {
        "id": "9mpq25osvQjs",
        "colab_type": "code",
        "colab": {
          "base_uri": "https://localhost:8080/",
          "height": 424
        },
        "outputId": "c7b45d39-d314-4ef9-a198-700ac9d878df"
      },
      "source": [
        "count = 0\n",
        "# 模型测试\n",
        "for inputs, _ in test_loader:\n",
        "    inputs = inputs.to(device)\n",
        "    outputs = net(inputs)\n",
        "    outputs = np.argmax(outputs.detach().cpu().numpy(), axis=1)\n",
        "    if count == 0:\n",
        "        y_pred_test =  outputs\n",
        "        count = 1\n",
        "    else:\n",
        "        y_pred_test = np.concatenate( (y_pred_test, outputs) )\n",
        "\n",
        "# 生成分类报告\n",
        "classification = classification_report(ytest, y_pred_test, digits=4)\n",
        "print(classification)"
      ],
      "execution_count": 21,
      "outputs": [
        {
          "output_type": "stream",
          "text": [
            "              precision    recall  f1-score   support\n",
            "\n",
            "         0.0     0.7727    0.8293    0.8000        41\n",
            "         1.0     0.9680    0.9183    0.9425      1285\n",
            "         2.0     0.9576    0.9076    0.9320       747\n",
            "         3.0     0.9760    0.9531    0.9644       213\n",
            "         4.0     0.9127    0.9609    0.9362       435\n",
            "         5.0     0.9725    0.9680    0.9703       657\n",
            "         6.0     0.9583    0.9200    0.9388        25\n",
            "         7.0     0.9683    0.9930    0.9805       430\n",
            "         8.0     0.7000    0.7778    0.7368        18\n",
            "         9.0     0.9746    0.9657    0.9701       875\n",
            "        10.0     0.9718    0.9670    0.9694      2210\n",
            "        11.0     0.8768    0.8933    0.8850       534\n",
            "        12.0     0.9775    0.9405    0.9587       185\n",
            "        13.0     0.9442    0.9956    0.9692      1139\n",
            "        14.0     0.9345    0.9452    0.9398       347\n",
            "        15.0     0.7248    0.9405    0.8187        84\n",
            "\n",
            "    accuracy                         0.9525      9225\n",
            "   macro avg     0.9119    0.9297    0.9195      9225\n",
            "weighted avg     0.9537    0.9525    0.9527      9225\n",
            "\n"
          ],
          "name": "stdout"
        }
      ]
    },
    {
      "cell_type": "markdown",
      "metadata": {
        "id": "lMrOWFr2vRUO",
        "colab_type": "text"
      },
      "source": [
        "## 备用函数"
      ]
    },
    {
      "cell_type": "code",
      "metadata": {
        "id": "tiN2OOPFvUbI",
        "colab_type": "code",
        "colab": {}
      },
      "source": [
        "from operator import truediv\n",
        "\n",
        "def AA_andEachClassAccuracy(confusion_matrix):\n",
        "    counter = confusion_matrix.shape[0]\n",
        "    list_diag = np.diag(confusion_matrix)\n",
        "    list_raw_sum = np.sum(confusion_matrix, axis=1)\n",
        "    each_acc = np.nan_to_num(truediv(list_diag, list_raw_sum))\n",
        "    average_acc = np.mean(each_acc)\n",
        "    return each_acc, average_acc\n",
        "\n",
        "\n",
        "def reports (test_loader, y_test, name):\n",
        "    count = 0\n",
        "    # 模型测试\n",
        "    for inputs, _ in test_loader:\n",
        "        inputs = inputs.to(device)\n",
        "        outputs = net(inputs)\n",
        "        outputs = np.argmax(outputs.detach().cpu().numpy(), axis=1)\n",
        "        if count == 0:\n",
        "            y_pred =  outputs\n",
        "            count = 1\n",
        "        else:\n",
        "            y_pred = np.concatenate( (y_pred, outputs) )\n",
        "\n",
        "    if name == 'IP':\n",
        "        target_names = ['Alfalfa', 'Corn-notill', 'Corn-mintill', 'Corn'\n",
        "                        ,'Grass-pasture', 'Grass-trees', 'Grass-pasture-mowed', \n",
        "                        'Hay-windrowed', 'Oats', 'Soybean-notill', 'Soybean-mintill',\n",
        "                        'Soybean-clean', 'Wheat', 'Woods', 'Buildings-Grass-Trees-Drives',\n",
        "                        'Stone-Steel-Towers']\n",
        "    elif name == 'SA':\n",
        "        target_names = ['Brocoli_green_weeds_1','Brocoli_green_weeds_2','Fallow','Fallow_rough_plow','Fallow_smooth',\n",
        "                        'Stubble','Celery','Grapes_untrained','Soil_vinyard_develop','Corn_senesced_green_weeds',\n",
        "                        'Lettuce_romaine_4wk','Lettuce_romaine_5wk','Lettuce_romaine_6wk','Lettuce_romaine_7wk',\n",
        "                        'Vinyard_untrained','Vinyard_vertical_trellis']\n",
        "    elif name == 'PU':\n",
        "        target_names = ['Asphalt','Meadows','Gravel','Trees', 'Painted metal sheets','Bare Soil','Bitumen',\n",
        "                        'Self-Blocking Bricks','Shadows']\n",
        "    \n",
        "    classification = classification_report(y_test, y_pred, target_names=target_names)\n",
        "    oa = accuracy_score(y_test, y_pred)\n",
        "    confusion = confusion_matrix(y_test, y_pred)\n",
        "    each_acc, aa = AA_andEachClassAccuracy(confusion)\n",
        "    kappa = cohen_kappa_score(y_test, y_pred)\n",
        "    \n",
        "    return classification, confusion, oa*100, each_acc*100, aa*100, kappa*100"
      ],
      "execution_count": 22,
      "outputs": []
    },
    {
      "cell_type": "markdown",
      "metadata": {
        "id": "6TgsA6aNvWb2",
        "colab_type": "text"
      },
      "source": [
        "检测结果写在文件里："
      ]
    },
    {
      "cell_type": "code",
      "metadata": {
        "id": "PL1cSNGJvYrr",
        "colab_type": "code",
        "colab": {}
      },
      "source": [
        "classification, confusion, oa, each_acc, aa, kappa = reports(test_loader, ytest, 'IP')\n",
        "classification = str(classification)\n",
        "confusion = str(confusion)\n",
        "file_name = \"classification_report.txt\"\n",
        "\n",
        "with open(file_name, 'w') as x_file:\n",
        "    x_file.write('\\n')\n",
        "    x_file.write('{} Kappa accuracy (%)'.format(kappa))\n",
        "    x_file.write('\\n')\n",
        "    x_file.write('{} Overall accuracy (%)'.format(oa))\n",
        "    x_file.write('\\n')\n",
        "    x_file.write('{} Average accuracy (%)'.format(aa))\n",
        "    x_file.write('\\n')\n",
        "    x_file.write('\\n')\n",
        "    x_file.write('{}'.format(classification))\n",
        "    x_file.write('\\n')\n",
        "    x_file.write('{}'.format(confusion))"
      ],
      "execution_count": 23,
      "outputs": []
    },
    {
      "cell_type": "markdown",
      "metadata": {
        "id": "I-maQetKvaTW",
        "colab_type": "text"
      },
      "source": [
        "下面代码用于显示分类结果："
      ]
    },
    {
      "cell_type": "code",
      "metadata": {
        "id": "n_UBFtGlvbrp",
        "colab_type": "code",
        "colab": {
          "base_uri": "https://localhost:8080/",
          "height": 159
        },
        "outputId": "70ce3641-7ed9-42dd-f00c-558132dd403f"
      },
      "source": [
        "# load the original image\n",
        "X = sio.loadmat('Indian_pines_corrected.mat')['indian_pines_corrected']\n",
        "y = sio.loadmat('Indian_pines_gt.mat')['indian_pines_gt']\n",
        "\n",
        "height = y.shape[0]\n",
        "width = y.shape[1]\n",
        "\n",
        "X = applyPCA(X, numComponents= pca_components)\n",
        "X = padWithZeros(X, patch_size//2)\n",
        "\n",
        "# 逐像素预测类别\n",
        "outputs = np.zeros((height,width))\n",
        "for i in range(height):\n",
        "    for j in range(width):\n",
        "        if int(y[i,j]) == 0:\n",
        "            continue\n",
        "        else :\n",
        "            image_patch = X[i:i+patch_size, j:j+patch_size, :]\n",
        "            image_patch = image_patch.reshape(1,image_patch.shape[0],image_patch.shape[1], image_patch.shape[2], 1)\n",
        "            X_test_image = torch.FloatTensor(image_patch.transpose(0, 4, 3, 1, 2)).to(device)                                   \n",
        "            prediction = net(X_test_image)\n",
        "            prediction = np.argmax(prediction.detach().cpu().numpy(), axis=1)\n",
        "            outputs[i][j] = prediction+1\n",
        "    if i % 20 == 0:\n",
        "        print('... ... row ', i, ' handling ... ...')"
      ],
      "execution_count": 24,
      "outputs": [
        {
          "output_type": "stream",
          "text": [
            "... ... row  0  handling ... ...\n",
            "... ... row  20  handling ... ...\n",
            "... ... row  40  handling ... ...\n",
            "... ... row  60  handling ... ...\n",
            "... ... row  80  handling ... ...\n",
            "... ... row  100  handling ... ...\n",
            "... ... row  120  handling ... ...\n",
            "... ... row  140  handling ... ...\n"
          ],
          "name": "stdout"
        }
      ]
    },
    {
      "cell_type": "code",
      "metadata": {
        "id": "6JBqjG-dvdz3",
        "colab_type": "code",
        "colab": {
          "base_uri": "https://localhost:8080/",
          "height": 323
        },
        "outputId": "29e14b97-7e2c-416e-d9e6-1b612fe8abad"
      },
      "source": [
        "predict_image = spectral.imshow(classes = outputs.astype(int),figsize =(5,5))"
      ],
      "execution_count": 25,
      "outputs": [
        {
          "output_type": "display_data",
          "data": {
            "image/png": "[encoded data removed]",
            "text/plain": [
              "<Figure size 360x360 with 1 Axes>"
            ]
          },
          "metadata": {
            "tags": [],
            "needs_background": "light"
          }
        }
      ]
    }
  ]
}