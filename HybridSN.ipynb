{
  "nbformat": 4,
  "nbformat_minor": 0,
  "metadata": {
    "colab": {
      "name": "HybridSN.ipynb",
      "provenance": [],
      "collapsed_sections": []
    },
    "kernelspec": {
      "name": "python3",
      "display_name": "Python 3"
    },
    "accelerator": "GPU"
  },
  "cells": [
    {
      "cell_type": "markdown",
      "metadata": {
        "id": "wM7VBIQ8oBiH",
        "colab_type": "text"
      },
      "source": [
        "# HybridSN 高光谱分类  \n",
        "首先取得数据，并引入基本函数库。"
      ]
    },
    {
      "cell_type": "code",
      "metadata": {
        "id": "koFbItdTn5kv",
        "colab_type": "code",
        "colab": {
          "base_uri": "https://localhost:8080/",
          "height": 513
        },
        "outputId": "ab6f665b-19d9-4fc2-dbf2-a019112a815c"
      },
      "source": [
        "! wget http://www.ehu.eus/ccwintco/uploads/6/67/Indian_pines_corrected.mat\n",
        "! wget http://www.ehu.eus/ccwintco/uploads/c/c4/Indian_pines_gt.mat\n",
        "! pip install spectral"
      ],
      "execution_count": 1,
      "outputs": [
        {
          "output_type": "stream",
          "text": [
            "--2020-08-11 14:36:46--  http://www.ehu.eus/ccwintco/uploads/6/67/Indian_pines_corrected.mat\n",
            "Resolving www.ehu.eus (www.ehu.eus)... 158.227.0.65, 2001:720:1410::65\n",
            "Connecting to www.ehu.eus (www.ehu.eus)|158.227.0.65|:80... connected.\n",
            "HTTP request sent, awaiting response... 200 OK\n",
            "Length: 5953527 (5.7M) [text/plain]\n",
            "Saving to: ‘Indian_pines_corrected.mat’\n",
            "\n",
            "Indian_pines_correc 100%[===================>]   5.68M  1.64MB/s    in 3.8s    \n",
            "\n",
            "2020-08-11 14:36:50 (1.49 MB/s) - ‘Indian_pines_corrected.mat’ saved [5953527/5953527]\n",
            "\n",
            "--2020-08-11 14:36:54--  http://www.ehu.eus/ccwintco/uploads/c/c4/Indian_pines_gt.mat\n",
            "Resolving www.ehu.eus (www.ehu.eus)... 158.227.0.65, 2001:720:1410::65\n",
            "Connecting to www.ehu.eus (www.ehu.eus)|158.227.0.65|:80... connected.\n",
            "HTTP request sent, awaiting response... 200 OK\n",
            "Length: 1125 (1.1K) [text/plain]\n",
            "Saving to: ‘Indian_pines_gt.mat’\n",
            "\n",
            "Indian_pines_gt.mat 100%[===================>]   1.10K  --.-KB/s    in 0s      \n",
            "\n",
            "2020-08-11 14:36:54 (197 MB/s) - ‘Indian_pines_gt.mat’ saved [1125/1125]\n",
            "\n",
            "Collecting spectral\n",
            "\u001b[?25l  Downloading https://files.pythonhosted.org/packages/ce/06/6a89035cde4eac3ed94e1888f850af653386e8ee827edc72ffc8e445bcb7/spectral-0.22.1-py3-none-any.whl (212kB)\n",
            "\u001b[K     |████████████████████████████████| 215kB 9.2MB/s \n",
            "\u001b[?25hRequirement already satisfied: numpy in /usr/local/lib/python3.6/dist-packages (from spectral) (1.18.5)\n",
            "Installing collected packages: spectral\n",
            "Successfully installed spectral-0.22.1\n"
          ],
          "name": "stdout"
        }
      ]
    },
    {
      "cell_type": "code",
      "metadata": {
        "id": "XVouTRiMoKGz",
        "colab_type": "code",
        "colab": {}
      },
      "source": [
        "import numpy as np\n",
        "import matplotlib.pyplot as plt\n",
        "import scipy.io as sio\n",
        "from sklearn.decomposition import PCA\n",
        "from sklearn.model_selection import train_test_split\n",
        "from sklearn.metrics import confusion_matrix, accuracy_score, classification_report, cohen_kappa_score\n",
        "import spectral\n",
        "import torch\n",
        "import torchvision\n",
        "import torch.nn as nn\n",
        "import torch.nn.functional as F\n",
        "import torch.optim as optim"
      ],
      "execution_count": 2,
      "outputs": []
    },
    {
      "cell_type": "markdown",
      "metadata": {
        "id": "cKHRU3fIoNfz",
        "colab_type": "text"
      },
      "source": [
        "## 定义 HybridSN 类  \n",
        "![alt text](https://camo.githubusercontent.com/f7db2d6ed93212a9b4d31c2826e38a2bdd964311/68747470733a2f2f67616f707572737569742e6f73732d636e2d6265696a696e672e616c6979756e63732e636f6d2f3230323030332f32303230303330343230333731302e6a7067)  \n",
        "\n",
        "三维卷积部分：\n",
        "\n",
        "conv1：（1, 30, 25, 25）， 8个 7x3x3 的卷积核 ==>  （8, 24, 23, 23）  \n",
        "conv2：（8, 24, 23, 23）， 16个 5x3x3 的卷积核 ==>（16, 20, 21, 21）  \n",
        "conv3：（16, 20, 21, 21），32个 3x3x3 的卷积核 ==>（32, 18, 19, 19）  \n",
        "接下来要进行二维卷积，因此把前面的 32*18 reshape 一下，得到 （576, 19, 19）  \n",
        "\n",
        "二维卷积：（576, 19, 19） 64个 3x3 的卷积核，得到 （64, 17, 17）\n",
        "\n",
        "接下来是一个 flatten 操作，变为 18496 维的向量，\n",
        "\n",
        "接下来依次为256，128节点的全连接层，都使用比例为0.4的 Dropout，\n",
        "\n",
        "最后输出为 16 个节点，是最终的分类类别数。\n",
        "\n",
        "下面是 HybridSN 类的代码："
      ]
    },
    {
      "cell_type": "code",
      "metadata": {
        "id": "zNa1pSjCoYyj",
        "colab_type": "code",
        "colab": {
          "base_uri": "https://localhost:8080/",
          "height": 88
        },
        "outputId": "f4750ac3-b086-4403-9654-798c22e71c70"
      },
      "source": [
        "# 原始代码\n",
        "class_num = 16\n",
        "\n",
        "class HybridSN(nn.Module):\n",
        "\n",
        "  def __init__(self):\n",
        "    super(HybridSN, self).__init__()\n",
        "\t# 3个3D卷积\n",
        "    # conv1：（1, 30, 25, 25）， 8个 7x3x3 的卷积核 ==> （8, 24, 23, 23）\n",
        "    self.conv1_3d = nn.Sequential(\n",
        "        nn.Conv3d(1,8,(7,3,3)),\n",
        "        nn.BatchNorm3d(8),\n",
        "        nn.ReLU()\n",
        "    )\n",
        "\t# conv2：（8, 24, 23, 23）， 16个 5x3x3 的卷积核 ==>（16, 20, 21, 21）\n",
        "    self.conv2_3d = nn.Sequential(\n",
        "        nn.Conv3d(8,16,(5,3,3)),\n",
        "        nn.BatchNorm3d(16),\n",
        "        nn.ReLU()\n",
        "    )\n",
        "\t# conv3：（16, 20, 21, 21），32个 3x3x3 的卷积核 ==>（32, 18, 19, 19）\n",
        "    self.conv3_3d = nn.Sequential(\n",
        "        nn.Conv3d(16,32,(3,3,3)),\n",
        "        nn.BatchNorm3d(32),\n",
        "        nn.ReLU()\n",
        "    )\n",
        "\t# 二维卷积：（576, 19, 19） 64个 3x3 的卷积核，得到 （64, 17, 17）\n",
        "    self.conv4_2d = nn.Sequential(\n",
        "        nn.Conv2d(576,64,(3,3)),\n",
        "        nn.BatchNorm2d(64),\n",
        "        nn.ReLU()\n",
        "    )\n",
        "\t# 接下来依次为256，128节点的全连接层，都使用比例为0.1的 Dropout\n",
        "    self.fn1 = nn.Linear(18496,256)\n",
        "    self.fn2 = nn.Linear(256,128)\n",
        "\n",
        "    self.fn_out = nn.Linear(128,class_num)\n",
        "\n",
        "    self.drop = nn.Dropout(p = 0.1)\n",
        "    # emm我在这里使用了softmax之后，网络在训练过程中loss就不再下降了，不知道具体是为啥，很奇怪，，\n",
        "    # self.soft = nn.Softmax(dim = 1)\n",
        "\n",
        "  def forward(self, x):\n",
        "    out = self.conv1_3d(x)\n",
        "    out = self.conv2_3d(out)\n",
        "    out = self.conv3_3d(out)\n",
        "\t# 进行二维卷积，因此把前面的 32*18 reshape 一下，得到 （576, 19, 19）\n",
        "    b,x,y,m,n = out.size()\n",
        "    out = out.view(b,x*y,m,n)\n",
        "\n",
        "    out = self.conv4_2d(out)\n",
        "\t# 接下来是一个 flatten 操作，变为 18496 维的向量\n",
        "    # 进行重组，以b行，d列的形式存放（d自动计算）\n",
        "    out = out.reshape(b,-1)\n",
        "\n",
        "    out = self.fn1(out)\n",
        "    out = self.drop(out)\n",
        "    out = self.fn2(out)\n",
        "    out = self.drop(out)\n",
        "\n",
        "    out = self.fn_out(out)\n",
        "\n",
        "    # out = self.soft(out)\n",
        "\n",
        "    return out\n",
        "\n",
        "# 随机输入，测试网络结构是否通\n",
        "x = torch.randn(1, 1, 30, 25, 25)\n",
        "net = HybridSN()\n",
        "y = net(x)\n",
        "print(y.shape)\n",
        "print(y)"
      ],
      "execution_count": null,
      "outputs": [
        {
          "output_type": "stream",
          "text": [
            "torch.Size([1, 16])\n",
            "tensor([[ 0.1285,  0.3525, -0.0756,  0.0151, -0.0222,  0.0053,  0.1639,  0.2420,\n",
            "          0.0098, -0.0929, -0.1854, -0.0890,  0.0499,  0.1919,  0.1547, -0.1718]],\n",
            "       grad_fn=<AddmmBackward>)\n"
          ],
          "name": "stdout"
        }
      ]
    },
    {
      "cell_type": "code",
      "metadata": {
        "id": "cPU8fGJHEQm9",
        "colab_type": "code",
        "colab": {
          "base_uri": "https://localhost:8080/",
          "height": 88
        },
        "outputId": "cb537cb7-586d-4e9b-8f3e-7979cc291e56"
      },
      "source": [
        "# 模型改进——先使用二位卷积，在使用三位卷积\n",
        "class_num = 16\n",
        "\n",
        "class HybridSN(nn.Module):\n",
        "\n",
        "  def __init__(self):\n",
        "    super(HybridSN, self).__init__()\n",
        "\t# 二维卷积：原始输入（30, 25, 25） 64个 3x3x30 的卷积核，得到 （64, 23, 23）\n",
        "    self.conv4_2d = nn.Sequential(\n",
        "        nn.Conv2d(30,64,(3,3)),\n",
        "        nn.BatchNorm2d(64),\n",
        "        nn.ReLU()\n",
        "    )\n",
        "    # 三个三维卷积\n",
        "    # conv1：（1, 64, 23, 23）， 8个 7x3x3 的卷积核 ==> （8, 58, 21, 21）\n",
        "    self.conv1_3d = nn.Sequential(\n",
        "        nn.Conv3d(1,8,(7,3,3)),\n",
        "        nn.BatchNorm3d(8),\n",
        "        nn.ReLU()\n",
        "    )\n",
        "    # conv2：（8, 58, 21, 21）， 16个 5x3x3 的卷积核 ==> （16, 54, 19, 19）\n",
        "    self.conv2_3d = nn.Sequential(\n",
        "        nn.Conv3d(8,16,(5,3,3)),\n",
        "        nn.BatchNorm3d(16),\n",
        "        nn.ReLU()\n",
        "    )\n",
        "    # conv3：（16, 54, 19, 19）， 32个 5x3x3 的卷积核 ==> （32, 52, 17, 17）\n",
        "    self.conv3_3d = nn.Sequential(\n",
        "        nn.Conv3d(16,32,(3,3,3)),\n",
        "        nn.BatchNorm3d(32),\n",
        "        nn.ReLU()\n",
        "    )\n",
        "\n",
        "    self.fn1 = nn.Linear(480896,256)# 32*52*17*17\n",
        "    self.fn2 = nn.Linear(256,128)\n",
        "\n",
        "    self.fn_out = nn.Linear(128,class_num)\n",
        "\n",
        "    self.drop = nn.Dropout(p = 0.4)\n",
        "    # emm我在这里使用了softmax之后，网络在训练过程中loss就不再下降了，不知道具体是为啥，很奇怪，，\n",
        "    # self.soft = nn.Softmax(dim = 1)\n",
        "\n",
        "  def forward(self, x):\n",
        "    # 先降到二维\n",
        "    out = x.view(x.shape[0],x.shape[2],x.shape[3],x.shape[4])\n",
        "    out = self.conv4_2d(out)\n",
        "    # 增加一个维度（64, 23, 23）-->（1,64, 23, 23）\n",
        "    out = out.view(out.shape[0],1,out.shape[1],out.shape[2],out.shape[3])\n",
        "\n",
        "    out = self.conv1_3d(out)\n",
        "    out = self.conv2_3d(out)\n",
        "    out = self.conv3_3d(out)\n",
        "    # 进行重组，以b行，d列的形式存放（d自动计算）\n",
        "    out = out.view(out.shape[0],-1)\n",
        "\n",
        "    out = self.fn1(out)\n",
        "    out = self.drop(out)\n",
        "    out = self.fn2(out)\n",
        "    out = self.drop(out)\n",
        "\n",
        "    out = self.fn_out(out)\n",
        "\n",
        "    return out\n",
        "\n",
        "# 随机输入，测试网络结构是否通\n",
        "x = torch.randn(1,1, 30, 25, 25)\n",
        "net = HybridSN()\n",
        "y = net(x)\n",
        "print(y.shape)\n",
        "print(y)"
      ],
      "execution_count": 3,
      "outputs": [
        {
          "output_type": "stream",
          "text": [
            "torch.Size([1, 16])\n",
            "tensor([[-0.0244, -0.3607, -0.0801,  0.2004, -0.1874, -0.1941, -0.0395,  0.1199,\n",
            "         -0.1129,  0.0493,  0.0176, -0.0850,  0.1632,  0.3491,  0.2695,  0.0121]],\n",
            "       grad_fn=<AddmmBackward>)\n"
          ],
          "name": "stdout"
        }
      ]
    },
    {
      "cell_type": "code",
      "metadata": {
        "id": "IPj-zHGdI90d",
        "colab_type": "code",
        "colab": {
          "base_uri": "https://localhost:8080/",
          "height": 88
        },
        "outputId": "1fb7bcef-7b8f-4211-e9f6-5fe194cf6e04"
      },
      "source": [
        "# 引入注意力机制\n",
        "class_num = 16\n",
        "\n",
        "\n",
        "class Attention_Block(nn.Module):\n",
        "\n",
        "    def __init__(self, planes, size):\n",
        "        super(Attention_Block, self).__init__()\n",
        "\n",
        "        self.globalAvgPool = nn.AvgPool2d(size, stride=1)\n",
        "\n",
        "        self.fc1 = nn.Linear(planes, round(planes / 16))\n",
        "        self.relu = nn.ReLU()\n",
        "        self.fc2 = nn.Linear(round(planes / 16), planes)\n",
        "        self.sigmoid = nn.Sigmoid()\n",
        "\n",
        "    def forward(self, x):\n",
        "        residual = x\n",
        "\n",
        "        out = self.globalAvgPool(x)\n",
        "        out = out.view(out.shape[0], out.shape[1])\n",
        "        out = self.fc1(out)\n",
        "        out = self.relu(out)\n",
        "        out = self.fc2(out)\n",
        "        out = self.sigmoid(out)\n",
        "        \n",
        "        out = out.view(out.shape[0], out.shape[1], 1, 1)\n",
        "        out = out * residual\n",
        "\n",
        "        return out\n",
        "\n",
        "\n",
        "\n",
        "class HybridSN(nn.Module):\n",
        "\n",
        "    def __init__(self):\n",
        "        super(HybridSN, self).__init__()\n",
        "        # 3个3D卷积\n",
        "        # conv1：（1, 30, 25, 25）， 8个 7x3x3 的卷积核 ==> （8, 24, 23, 23）\n",
        "        self.conv1_3d = nn.Sequential(\n",
        "            nn.Conv3d(1,8,(7,3,3)),\n",
        "            nn.BatchNorm3d(8),\n",
        "            nn.ReLU()\n",
        "        )\n",
        "        # conv2：（8, 24, 23, 23）， 16个 5x3x3 的卷积核 ==>（16, 20, 21, 21）\n",
        "        self.conv2_3d = nn.Sequential(\n",
        "            nn.Conv3d(8,16,(5,3,3)),\n",
        "            nn.BatchNorm3d(16),\n",
        "            nn.ReLU()\n",
        "        )\n",
        "        # conv3：（16, 20, 21, 21），32个 3x3x3 的卷积核 ==>（32, 18, 19, 19）\n",
        "        self.conv3_3d = nn.Sequential(\n",
        "            nn.Conv3d(16,32,(3,3,3)),\n",
        "            nn.BatchNorm3d(32),\n",
        "            nn.ReLU()\n",
        "        )\n",
        "        # 二维卷积：（576, 19, 19） 64个 3x3 的卷积核，得到 （64, 17, 17）\n",
        "        self.conv4_2d = nn.Sequential(\n",
        "            nn.Conv2d(576,64,(3,3)),\n",
        "            nn.BatchNorm2d(64),\n",
        "            nn.ReLU()\n",
        "        )\n",
        "        # 注意力机制部分\n",
        "        self.layer1 = self.make_layer(Attention_Block,planes = 576, size = 19)\n",
        "        self.layer2 = self.make_layer(Attention_Block,planes = 64, size = 17)\n",
        "\n",
        "        # 接下来依次为256，128节点的全连接层，都使用比例为0.1的 Dropout\n",
        "        self.fn1 = nn.Linear(18496,256)\n",
        "        self.fn2 = nn.Linear(256,128)\n",
        "\n",
        "        self.fn_out = nn.Linear(128,class_num)\n",
        "\n",
        "        self.drop = nn.Dropout(p = 0.1)\n",
        "        # emm我在这里使用了softmax之后，网络在训练过程中loss就不再下降了，不知道具体是为啥，很奇怪，，\n",
        "        # self.soft = nn.Softmax(dim = 1)\n",
        "\n",
        "    def make_layer(self, block, planes, size):\n",
        "        layers = []\n",
        "        layers.append(block(planes, size))\n",
        "        return nn.Sequential(*layers)\n",
        "\n",
        "    def forward(self, x):\n",
        "        out = self.conv1_3d(x)\n",
        "        out = self.conv2_3d(out)\n",
        "        out = self.conv3_3d(out)\n",
        "        # 进行二维卷积，因此把前面的 32*18 reshape 一下，得到 （576, 19, 19）\n",
        "        out = out.view(out.shape[0],out.shape[1]*out.shape[2],out.shape[3],out.shape[4])\n",
        "\n",
        "        # 在二维卷积部分引入注意力机制\n",
        "        out = self.layer1(out)\n",
        "        out = self.conv4_2d(out)\n",
        "        out = self.layer2(out)\n",
        "        # 接下来是一个 flatten 操作，变为 18496 维的向量\n",
        "        # 进行重组，以b行，d列的形式存放（d自动计算）\n",
        "        out = out.view(out.shape[0],-1)\n",
        "\n",
        "        out = self.fn1(out)\n",
        "        out = self.drop(out)\n",
        "        out = self.fn2(out)\n",
        "        out = self.drop(out)\n",
        "\n",
        "        out = self.fn_out(out)\n",
        "\n",
        "        # out = self.soft(out)\n",
        "\n",
        "        return out\n",
        "\n",
        "# 随机输入，测试网络结构是否通\n",
        "x = torch.randn(1, 1, 30, 25, 25)\n",
        "net = HybridSN()\n",
        "y = net(x)\n",
        "print(y.shape)\n",
        "print(y)"
      ],
      "execution_count": 44,
      "outputs": [
        {
          "output_type": "stream",
          "text": [
            "torch.Size([1, 16])\n",
            "tensor([[ 0.2083, -0.0485, -0.0676,  0.1078,  0.0107,  0.0828,  0.0422, -0.0309,\n",
            "          0.0706, -0.0167, -0.1339, -0.0660, -0.1316,  0.0684, -0.1107, -0.0173]],\n",
            "       grad_fn=<AddmmBackward>)\n"
          ],
          "name": "stdout"
        }
      ]
    },
    {
      "cell_type": "markdown",
      "metadata": {
        "id": "yQmE9RAXuv3g",
        "colab_type": "text"
      },
      "source": [
        "## 创建数据集\n",
        "首先对高光谱数据实施PCA降维；然后创建 keras 方便处理的数据格式；然后随机抽取 10% 数据做为训练集，剩余的做为测试集。\n",
        "\n",
        "首先定义基本函数："
      ]
    },
    {
      "cell_type": "code",
      "metadata": {
        "id": "CXlB3AD3uxu6",
        "colab_type": "code",
        "colab": {}
      },
      "source": [
        "# 对高光谱数据 X 应用 PCA 变换\n",
        "def applyPCA(X, numComponents):\n",
        "    newX = np.reshape(X, (-1, X.shape[2]))\n",
        "    pca = PCA(n_components=numComponents, whiten=True)\n",
        "    newX = pca.fit_transform(newX)\n",
        "    newX = np.reshape(newX, (X.shape[0], X.shape[1], numComponents))\n",
        "    return newX\n",
        "\n",
        "# 对单个像素周围提取 patch 时，边缘像素就无法取了，因此，给这部分像素进行 padding 操作\n",
        "def padWithZeros(X, margin=2):\n",
        "    newX = np.zeros((X.shape[0] + 2 * margin, X.shape[1] + 2* margin, X.shape[2]))\n",
        "    x_offset = margin\n",
        "    y_offset = margin\n",
        "    newX[x_offset:X.shape[0] + x_offset, y_offset:X.shape[1] + y_offset, :] = X\n",
        "    return newX\n",
        "\n",
        "# 在每个像素周围提取 patch ，然后创建成符合 keras 处理的格式\n",
        "def createImageCubes(X, y, windowSize=5, removeZeroLabels = True):\n",
        "    # 给 X 做 padding\n",
        "    margin = int((windowSize - 1) / 2)\n",
        "    zeroPaddedX = padWithZeros(X, margin=margin)\n",
        "    # split patches\n",
        "    patchesData = np.zeros((X.shape[0] * X.shape[1], windowSize, windowSize, X.shape[2]))\n",
        "    patchesLabels = np.zeros((X.shape[0] * X.shape[1]))\n",
        "    patchIndex = 0\n",
        "    for r in range(margin, zeroPaddedX.shape[0] - margin):\n",
        "        for c in range(margin, zeroPaddedX.shape[1] - margin):\n",
        "            patch = zeroPaddedX[r - margin:r + margin + 1, c - margin:c + margin + 1]   \n",
        "            patchesData[patchIndex, :, :, :] = patch\n",
        "            patchesLabels[patchIndex] = y[r-margin, c-margin]\n",
        "            patchIndex = patchIndex + 1\n",
        "    if removeZeroLabels:\n",
        "        patchesData = patchesData[patchesLabels>0,:,:,:]\n",
        "        patchesLabels = patchesLabels[patchesLabels>0]\n",
        "        patchesLabels -= 1\n",
        "    return patchesData, patchesLabels\n",
        "\n",
        "def splitTrainTestSet(X, y, testRatio, randomState=345):\n",
        "    X_train, X_test, y_train, y_test = train_test_split(X, y, test_size=testRatio, random_state=randomState, stratify=y)\n",
        "    return X_train, X_test, y_train, y_test"
      ],
      "execution_count": 4,
      "outputs": []
    },
    {
      "cell_type": "markdown",
      "metadata": {
        "id": "oIRRBVkEu3CM",
        "colab_type": "text"
      },
      "source": [
        "下面读取并创建数据集："
      ]
    },
    {
      "cell_type": "code",
      "metadata": {
        "id": "hQFlh08Wu3d8",
        "colab_type": "code",
        "colab": {
          "base_uri": "https://localhost:8080/",
          "height": 318
        },
        "outputId": "d8756b9d-4f77-4e47-9778-fc1ccddf77c8"
      },
      "source": [
        "# 地物类别\n",
        "class_num = 16\n",
        "X = sio.loadmat('Indian_pines_corrected.mat')['indian_pines_corrected']\n",
        "y = sio.loadmat('Indian_pines_gt.mat')['indian_pines_gt']\n",
        "\n",
        "# 用于测试样本的比例\n",
        "test_ratio = 0.90\n",
        "# 每个像素周围提取 patch 的尺寸\n",
        "patch_size = 25\n",
        "# 使用 PCA 降维，得到主成分的数量\n",
        "pca_components = 30\n",
        "\n",
        "print('Hyperspectral data shape: ', X.shape)\n",
        "print('Label shape: ', y.shape)\n",
        "\n",
        "print('\\n... ... PCA tranformation ... ...')\n",
        "X_pca = applyPCA(X, numComponents=pca_components)\n",
        "print('Data shape after PCA: ', X_pca.shape)\n",
        "\n",
        "print('\\n... ... create data cubes ... ...')\n",
        "X_pca, y = createImageCubes(X_pca, y, windowSize=patch_size)\n",
        "print('Data cube X shape: ', X_pca.shape)\n",
        "print('Data cube y shape: ', y.shape)\n",
        "\n",
        "print('\\n... ... create train & test data ... ...')\n",
        "Xtrain, Xtest, ytrain, ytest = splitTrainTestSet(X_pca, y, test_ratio)\n",
        "print('Xtrain shape: ', Xtrain.shape)\n",
        "print('Xtest  shape: ', Xtest.shape)\n",
        "\n",
        "# 改变 Xtrain, Ytrain 的形状，以符合 keras 的要求\n",
        "Xtrain = Xtrain.reshape(-1, patch_size, patch_size, pca_components, 1)\n",
        "Xtest  = Xtest.reshape(-1, patch_size, patch_size, pca_components, 1)\n",
        "print('before transpose: Xtrain shape: ', Xtrain.shape) \n",
        "print('before transpose: Xtest  shape: ', Xtest.shape) \n",
        "\n",
        "# 为了适应 pytorch 结构，数据要做 transpose\n",
        "Xtrain = Xtrain.transpose(0, 4, 3, 1, 2)\n",
        "Xtest  = Xtest.transpose(0, 4, 3, 1, 2)\n",
        "print('after transpose: Xtrain shape: ', Xtrain.shape) \n",
        "print('after transpose: Xtest  shape: ', Xtest.shape) \n",
        "\n",
        "\n",
        "\"\"\" Training dataset\"\"\"\n",
        "class TrainDS(torch.utils.data.Dataset): \n",
        "    def __init__(self):\n",
        "        self.len = Xtrain.shape[0]\n",
        "        self.x_data = torch.FloatTensor(Xtrain)\n",
        "        self.y_data = torch.LongTensor(ytrain)        \n",
        "    def __getitem__(self, index):\n",
        "        # 根据索引返回数据和对应的标签\n",
        "        return self.x_data[index], self.y_data[index]\n",
        "    def __len__(self): \n",
        "        # 返回文件数据的数目\n",
        "        return self.len\n",
        "\n",
        "\"\"\" Testing dataset\"\"\"\n",
        "class TestDS(torch.utils.data.Dataset): \n",
        "    def __init__(self):\n",
        "        self.len = Xtest.shape[0]\n",
        "        self.x_data = torch.FloatTensor(Xtest)\n",
        "        self.y_data = torch.LongTensor(ytest)\n",
        "    def __getitem__(self, index):\n",
        "        # 根据索引返回数据和对应的标签\n",
        "        return self.x_data[index], self.y_data[index]\n",
        "    def __len__(self): \n",
        "        # 返回文件数据的数目\n",
        "        return self.len\n",
        "\n",
        "# 创建 trainloader 和 testloader\n",
        "trainset = TrainDS()\n",
        "testset  = TestDS()\n",
        "train_loader = torch.utils.data.DataLoader(dataset=trainset, batch_size=128, shuffle=True, num_workers=2)\n",
        "test_loader  = torch.utils.data.DataLoader(dataset=testset,  batch_size=128, shuffle=False, num_workers=2)"
      ],
      "execution_count": 5,
      "outputs": [
        {
          "output_type": "stream",
          "text": [
            "Hyperspectral data shape:  (145, 145, 200)\n",
            "Label shape:  (145, 145)\n",
            "\n",
            "... ... PCA tranformation ... ...\n",
            "Data shape after PCA:  (145, 145, 30)\n",
            "\n",
            "... ... create data cubes ... ...\n",
            "Data cube X shape:  (10249, 25, 25, 30)\n",
            "Data cube y shape:  (10249,)\n",
            "\n",
            "... ... create train & test data ... ...\n",
            "Xtrain shape:  (1024, 25, 25, 30)\n",
            "Xtest  shape:  (9225, 25, 25, 30)\n",
            "before transpose: Xtrain shape:  (1024, 25, 25, 30, 1)\n",
            "before transpose: Xtest  shape:  (9225, 25, 25, 30, 1)\n",
            "after transpose: Xtrain shape:  (1024, 1, 30, 25, 25)\n",
            "after transpose: Xtest  shape:  (9225, 1, 30, 25, 25)\n"
          ],
          "name": "stdout"
        }
      ]
    },
    {
      "cell_type": "markdown",
      "metadata": {
        "id": "3_7Wpk-iu8ZM",
        "colab_type": "text"
      },
      "source": [
        "## 开始训练"
      ]
    },
    {
      "cell_type": "code",
      "metadata": {
        "id": "N_TYj6UDu-ZK",
        "colab_type": "code",
        "colab": {
          "base_uri": "https://localhost:8080/",
          "height": 1000
        },
        "outputId": "a08962d4-d218-465d-cf93-9a53a83098ec"
      },
      "source": [
        "# 使用GPU训练，可以在菜单 \"代码执行工具\" -> \"更改运行时类型\" 里进行设置\n",
        "device = torch.device(\"cuda:0\" if torch.cuda.is_available() else \"cpu\")\n",
        "\n",
        "# 网络放到GPU上\n",
        "net = HybridSN().to(device)\n",
        "criterion = nn.CrossEntropyLoss()\n",
        "optimizer = optim.Adam(net.parameters(), lr=0.001)\n",
        "\n",
        "# 开始训练\n",
        "net.train()\n",
        "total_loss = 0\n",
        "for epoch in range(100):\n",
        "    for i, (inputs, labels) in enumerate(train_loader):\n",
        "        inputs = inputs.to(device)\n",
        "        labels = labels.to(device)\n",
        "        # 优化器梯度归零\n",
        "        optimizer.zero_grad()\n",
        "        # 正向传播 +　反向传播 + 优化 \n",
        "        outputs = net(inputs)\n",
        "        loss = criterion(outputs, labels)\n",
        "        loss.backward()\n",
        "        optimizer.step()\n",
        "        total_loss += loss.item()\n",
        "    print('[Epoch: %d]   [loss avg: %.4f]   [current loss: %.4f]' %(epoch + 1, total_loss/(epoch+1), loss.item()))\n",
        "\n",
        "print('Finished Training')"
      ],
      "execution_count": 45,
      "outputs": [
        {
          "output_type": "stream",
          "text": [
            "[Epoch: 1]   [loss avg: 30.1527]   [current loss: 2.3643]\n",
            "[Epoch: 2]   [loss avg: 20.2693]   [current loss: 0.8725]\n",
            "[Epoch: 3]   [loss avg: 15.3539]   [current loss: 0.5051]\n",
            "[Epoch: 4]   [loss avg: 12.2506]   [current loss: 0.2793]\n",
            "[Epoch: 5]   [loss avg: 10.0476]   [current loss: 0.1493]\n",
            "[Epoch: 6]   [loss avg: 8.4768]   [current loss: 0.0752]\n",
            "[Epoch: 7]   [loss avg: 7.3092]   [current loss: 0.0210]\n",
            "[Epoch: 8]   [loss avg: 6.4156]   [current loss: 0.0077]\n",
            "[Epoch: 9]   [loss avg: 5.7171]   [current loss: 0.0052]\n",
            "[Epoch: 10]   [loss avg: 5.1532]   [current loss: 0.0050]\n",
            "[Epoch: 11]   [loss avg: 4.6892]   [current loss: 0.0027]\n",
            "[Epoch: 12]   [loss avg: 4.3027]   [current loss: 0.0020]\n",
            "[Epoch: 13]   [loss avg: 3.9752]   [current loss: 0.0155]\n",
            "[Epoch: 14]   [loss avg: 3.6932]   [current loss: 0.0020]\n",
            "[Epoch: 15]   [loss avg: 3.4484]   [current loss: 0.0042]\n",
            "[Epoch: 16]   [loss avg: 3.2341]   [current loss: 0.0016]\n",
            "[Epoch: 17]   [loss avg: 3.0448]   [current loss: 0.0021]\n",
            "[Epoch: 18]   [loss avg: 2.8764]   [current loss: 0.0016]\n",
            "[Epoch: 19]   [loss avg: 2.7256]   [current loss: 0.0021]\n",
            "[Epoch: 20]   [loss avg: 2.5898]   [current loss: 0.0014]\n",
            "[Epoch: 21]   [loss avg: 2.4670]   [current loss: 0.0021]\n",
            "[Epoch: 22]   [loss avg: 2.3553]   [current loss: 0.0011]\n",
            "[Epoch: 23]   [loss avg: 2.2533]   [current loss: 0.0014]\n",
            "[Epoch: 24]   [loss avg: 2.1597]   [current loss: 0.0007]\n",
            "[Epoch: 25]   [loss avg: 2.0737]   [current loss: 0.0006]\n",
            "[Epoch: 26]   [loss avg: 1.9941]   [current loss: 0.0008]\n",
            "[Epoch: 27]   [loss avg: 1.9205]   [current loss: 0.0007]\n",
            "[Epoch: 28]   [loss avg: 1.8522]   [current loss: 0.0005]\n",
            "[Epoch: 29]   [loss avg: 1.7885]   [current loss: 0.0006]\n",
            "[Epoch: 30]   [loss avg: 1.7290]   [current loss: 0.0006]\n",
            "[Epoch: 31]   [loss avg: 1.6734]   [current loss: 0.0004]\n",
            "[Epoch: 32]   [loss avg: 1.6212]   [current loss: 0.0005]\n",
            "[Epoch: 33]   [loss avg: 1.5723]   [current loss: 0.0005]\n",
            "[Epoch: 34]   [loss avg: 1.5261]   [current loss: 0.0006]\n",
            "[Epoch: 35]   [loss avg: 1.4826]   [current loss: 0.0005]\n",
            "[Epoch: 36]   [loss avg: 1.4416]   [current loss: 0.0005]\n",
            "[Epoch: 37]   [loss avg: 1.4027]   [current loss: 0.0010]\n",
            "[Epoch: 38]   [loss avg: 1.3659]   [current loss: 0.0007]\n",
            "[Epoch: 39]   [loss avg: 1.3309]   [current loss: 0.0003]\n",
            "[Epoch: 40]   [loss avg: 1.2977]   [current loss: 0.0002]\n",
            "[Epoch: 41]   [loss avg: 1.2661]   [current loss: 0.0002]\n",
            "[Epoch: 42]   [loss avg: 1.2360]   [current loss: 0.0003]\n",
            "[Epoch: 43]   [loss avg: 1.2073]   [current loss: 0.0001]\n",
            "[Epoch: 44]   [loss avg: 1.1799]   [current loss: 0.0002]\n",
            "[Epoch: 45]   [loss avg: 1.1537]   [current loss: 0.0002]\n",
            "[Epoch: 46]   [loss avg: 1.1287]   [current loss: 0.0002]\n",
            "[Epoch: 47]   [loss avg: 1.1047]   [current loss: 0.0004]\n",
            "[Epoch: 48]   [loss avg: 1.0817]   [current loss: 0.0002]\n",
            "[Epoch: 49]   [loss avg: 1.0597]   [current loss: 0.0002]\n",
            "[Epoch: 50]   [loss avg: 1.0385]   [current loss: 0.0002]\n",
            "[Epoch: 51]   [loss avg: 1.0181]   [current loss: 0.0001]\n",
            "[Epoch: 52]   [loss avg: 0.9986]   [current loss: 0.0001]\n",
            "[Epoch: 53]   [loss avg: 0.9798]   [current loss: 0.0001]\n",
            "[Epoch: 54]   [loss avg: 0.9617]   [current loss: 0.0002]\n",
            "[Epoch: 55]   [loss avg: 0.9442]   [current loss: 0.0001]\n",
            "[Epoch: 56]   [loss avg: 0.9273]   [current loss: 0.0001]\n",
            "[Epoch: 57]   [loss avg: 0.9111]   [current loss: 0.0001]\n",
            "[Epoch: 58]   [loss avg: 0.8954]   [current loss: 0.0001]\n",
            "[Epoch: 59]   [loss avg: 0.8802]   [current loss: 0.0001]\n",
            "[Epoch: 60]   [loss avg: 0.8656]   [current loss: 0.0001]\n",
            "[Epoch: 61]   [loss avg: 0.8514]   [current loss: 0.0002]\n",
            "[Epoch: 62]   [loss avg: 0.8377]   [current loss: 0.0001]\n",
            "[Epoch: 63]   [loss avg: 0.8244]   [current loss: 0.0001]\n",
            "[Epoch: 64]   [loss avg: 0.8115]   [current loss: 0.0001]\n",
            "[Epoch: 65]   [loss avg: 0.7991]   [current loss: 0.0001]\n",
            "[Epoch: 66]   [loss avg: 0.7870]   [current loss: 0.0001]\n",
            "[Epoch: 67]   [loss avg: 0.7752]   [current loss: 0.0001]\n",
            "[Epoch: 68]   [loss avg: 0.7638]   [current loss: 0.0000]\n",
            "[Epoch: 69]   [loss avg: 0.7528]   [current loss: 0.0000]\n",
            "[Epoch: 70]   [loss avg: 0.7420]   [current loss: 0.0001]\n",
            "[Epoch: 71]   [loss avg: 0.7316]   [current loss: 0.0001]\n",
            "[Epoch: 72]   [loss avg: 0.7214]   [current loss: 0.0000]\n",
            "[Epoch: 73]   [loss avg: 0.7116]   [current loss: 0.0000]\n",
            "[Epoch: 74]   [loss avg: 0.7019]   [current loss: 0.0000]\n",
            "[Epoch: 75]   [loss avg: 0.6926]   [current loss: 0.0000]\n",
            "[Epoch: 76]   [loss avg: 0.6835]   [current loss: 0.0000]\n",
            "[Epoch: 77]   [loss avg: 0.6746]   [current loss: 0.0002]\n",
            "[Epoch: 78]   [loss avg: 0.6660]   [current loss: 0.0000]\n",
            "[Epoch: 79]   [loss avg: 0.6576]   [current loss: 0.0000]\n",
            "[Epoch: 80]   [loss avg: 0.6493]   [current loss: 0.0000]\n",
            "[Epoch: 81]   [loss avg: 0.6413]   [current loss: 0.0000]\n",
            "[Epoch: 82]   [loss avg: 0.6335]   [current loss: 0.0001]\n",
            "[Epoch: 83]   [loss avg: 0.6259]   [current loss: 0.0000]\n",
            "[Epoch: 84]   [loss avg: 0.6184]   [current loss: 0.0000]\n",
            "[Epoch: 85]   [loss avg: 0.6112]   [current loss: 0.0001]\n",
            "[Epoch: 86]   [loss avg: 0.6041]   [current loss: 0.0000]\n",
            "[Epoch: 87]   [loss avg: 0.5971]   [current loss: 0.0000]\n",
            "[Epoch: 88]   [loss avg: 0.5903]   [current loss: 0.0000]\n",
            "[Epoch: 89]   [loss avg: 0.5837]   [current loss: 0.0000]\n",
            "[Epoch: 90]   [loss avg: 0.5772]   [current loss: 0.0000]\n",
            "[Epoch: 91]   [loss avg: 0.5709]   [current loss: 0.0000]\n",
            "[Epoch: 92]   [loss avg: 0.5647]   [current loss: 0.0000]\n",
            "[Epoch: 93]   [loss avg: 0.5586]   [current loss: 0.0000]\n",
            "[Epoch: 94]   [loss avg: 0.5527]   [current loss: 0.0001]\n",
            "[Epoch: 95]   [loss avg: 0.5469]   [current loss: 0.0000]\n",
            "[Epoch: 96]   [loss avg: 0.5412]   [current loss: 0.0000]\n",
            "[Epoch: 97]   [loss avg: 0.5356]   [current loss: 0.0000]\n",
            "[Epoch: 98]   [loss avg: 0.5301]   [current loss: 0.0000]\n",
            "[Epoch: 99]   [loss avg: 0.5248]   [current loss: 0.0000]\n",
            "[Epoch: 100]   [loss avg: 0.5195]   [current loss: 0.0000]\n",
            "Finished Training\n"
          ],
          "name": "stdout"
        }
      ]
    },
    {
      "cell_type": "markdown",
      "metadata": {
        "id": "Vk8iF7iyvNpD",
        "colab_type": "text"
      },
      "source": [
        "## 模型测试"
      ]
    },
    {
      "cell_type": "code",
      "metadata": {
        "id": "9mpq25osvQjs",
        "colab_type": "code",
        "colab": {
          "base_uri": "https://localhost:8080/",
          "height": 424
        },
        "outputId": "aec80168-6fe4-4489-c4c4-c904f228f276"
      },
      "source": [
        "count = 0\n",
        "# 模型测试\n",
        "\n",
        "net.eval()\n",
        "for inputs, _ in test_loader:\n",
        "    inputs = inputs.to(device)\n",
        "    outputs = net(inputs)\n",
        "    outputs = np.argmax(outputs.detach().cpu().numpy(), axis=1)\n",
        "    if count == 0:\n",
        "        y_pred_test =  outputs\n",
        "        count = 1\n",
        "    else:\n",
        "        y_pred_test = np.concatenate( (y_pred_test, outputs) )\n",
        "\n",
        "# 生成分类报告\n",
        "classification = classification_report(ytest, y_pred_test, digits=4)\n",
        "print(classification)"
      ],
      "execution_count": 47,
      "outputs": [
        {
          "output_type": "stream",
          "text": [
            "              precision    recall  f1-score   support\n",
            "\n",
            "         0.0     0.9535    1.0000    0.9762        41\n",
            "         1.0     0.9959    0.9541    0.9746      1285\n",
            "         2.0     0.9920    1.0000    0.9960       747\n",
            "         3.0     1.0000    0.9812    0.9905       213\n",
            "         4.0     0.9977    0.9977    0.9977       435\n",
            "         5.0     0.9894    0.9909    0.9901       657\n",
            "         6.0     1.0000    1.0000    1.0000        25\n",
            "         7.0     1.0000    1.0000    1.0000       430\n",
            "         8.0     1.0000    0.8889    0.9412        18\n",
            "         9.0     0.9920    0.9943    0.9932       875\n",
            "        10.0     0.9774    0.9973    0.9872      2210\n",
            "        11.0     0.9888    0.9906    0.9897       534\n",
            "        12.0     1.0000    1.0000    1.0000       185\n",
            "        13.0     0.9939    1.0000    0.9969      1139\n",
            "        14.0     1.0000    1.0000    1.0000       347\n",
            "        15.0     0.9750    0.9286    0.9512        84\n",
            "\n",
            "    accuracy                         0.9898      9225\n",
            "   macro avg     0.9910    0.9827    0.9865      9225\n",
            "weighted avg     0.9899    0.9898    0.9898      9225\n",
            "\n"
          ],
          "name": "stdout"
        }
      ]
    },
    {
      "cell_type": "markdown",
      "metadata": {
        "id": "lMrOWFr2vRUO",
        "colab_type": "text"
      },
      "source": [
        "## 备用函数"
      ]
    },
    {
      "cell_type": "code",
      "metadata": {
        "id": "tiN2OOPFvUbI",
        "colab_type": "code",
        "colab": {}
      },
      "source": [
        "from operator import truediv\n",
        "\n",
        "def AA_andEachClassAccuracy(confusion_matrix):\n",
        "    counter = confusion_matrix.shape[0]\n",
        "    list_diag = np.diag(confusion_matrix)\n",
        "    list_raw_sum = np.sum(confusion_matrix, axis=1)\n",
        "    each_acc = np.nan_to_num(truediv(list_diag, list_raw_sum))\n",
        "    average_acc = np.mean(each_acc)\n",
        "    return each_acc, average_acc\n",
        "\n",
        "\n",
        "def reports (test_loader, y_test, name):\n",
        "    count = 0\n",
        "    # 模型测试\n",
        "    for inputs, _ in test_loader:\n",
        "        inputs = inputs.to(device)\n",
        "        outputs = net(inputs)\n",
        "        outputs = np.argmax(outputs.detach().cpu().numpy(), axis=1)\n",
        "        if count == 0:\n",
        "            y_pred =  outputs\n",
        "            count = 1\n",
        "        else:\n",
        "            y_pred = np.concatenate( (y_pred, outputs) )\n",
        "\n",
        "    if name == 'IP':\n",
        "        target_names = ['Alfalfa', 'Corn-notill', 'Corn-mintill', 'Corn'\n",
        "                        ,'Grass-pasture', 'Grass-trees', 'Grass-pasture-mowed', \n",
        "                        'Hay-windrowed', 'Oats', 'Soybean-notill', 'Soybean-mintill',\n",
        "                        'Soybean-clean', 'Wheat', 'Woods', 'Buildings-Grass-Trees-Drives',\n",
        "                        'Stone-Steel-Towers']\n",
        "    elif name == 'SA':\n",
        "        target_names = ['Brocoli_green_weeds_1','Brocoli_green_weeds_2','Fallow','Fallow_rough_plow','Fallow_smooth',\n",
        "                        'Stubble','Celery','Grapes_untrained','Soil_vinyard_develop','Corn_senesced_green_weeds',\n",
        "                        'Lettuce_romaine_4wk','Lettuce_romaine_5wk','Lettuce_romaine_6wk','Lettuce_romaine_7wk',\n",
        "                        'Vinyard_untrained','Vinyard_vertical_trellis']\n",
        "    elif name == 'PU':\n",
        "        target_names = ['Asphalt','Meadows','Gravel','Trees', 'Painted metal sheets','Bare Soil','Bitumen',\n",
        "                        'Self-Blocking Bricks','Shadows']\n",
        "    \n",
        "    classification = classification_report(y_test, y_pred, target_names=target_names)\n",
        "    oa = accuracy_score(y_test, y_pred)\n",
        "    confusion = confusion_matrix(y_test, y_pred)\n",
        "    each_acc, aa = AA_andEachClassAccuracy(confusion)\n",
        "    kappa = cohen_kappa_score(y_test, y_pred)\n",
        "    \n",
        "    return classification, confusion, oa*100, each_acc*100, aa*100, kappa*100"
      ],
      "execution_count": null,
      "outputs": []
    },
    {
      "cell_type": "markdown",
      "metadata": {
        "id": "6TgsA6aNvWb2",
        "colab_type": "text"
      },
      "source": [
        "检测结果写在文件里："
      ]
    },
    {
      "cell_type": "code",
      "metadata": {
        "id": "PL1cSNGJvYrr",
        "colab_type": "code",
        "colab": {}
      },
      "source": [
        "classification, confusion, oa, each_acc, aa, kappa = reports(test_loader, ytest, 'IP')\n",
        "classification = str(classification)\n",
        "confusion = str(confusion)\n",
        "file_name = \"classification_report.txt\"\n",
        "\n",
        "with open(file_name, 'w') as x_file:\n",
        "    x_file.write('\\n')\n",
        "    x_file.write('{} Kappa accuracy (%)'.format(kappa))\n",
        "    x_file.write('\\n')\n",
        "    x_file.write('{} Overall accuracy (%)'.format(oa))\n",
        "    x_file.write('\\n')\n",
        "    x_file.write('{} Average accuracy (%)'.format(aa))\n",
        "    x_file.write('\\n')\n",
        "    x_file.write('\\n')\n",
        "    x_file.write('{}'.format(classification))\n",
        "    x_file.write('\\n')\n",
        "    x_file.write('{}'.format(confusion))"
      ],
      "execution_count": null,
      "outputs": []
    },
    {
      "cell_type": "markdown",
      "metadata": {
        "id": "I-maQetKvaTW",
        "colab_type": "text"
      },
      "source": [
        "下面代码用于显示分类结果："
      ]
    },
    {
      "cell_type": "code",
      "metadata": {
        "id": "n_UBFtGlvbrp",
        "colab_type": "code",
        "colab": {
          "base_uri": "https://localhost:8080/",
          "height": 159
        },
        "outputId": "f231841e-13c3-42ac-f920-b1f6c6f7890a"
      },
      "source": [
        "# load the original image\n",
        "X = sio.loadmat('Indian_pines_corrected.mat')['indian_pines_corrected']\n",
        "y = sio.loadmat('Indian_pines_gt.mat')['indian_pines_gt']\n",
        "\n",
        "height = y.shape[0]\n",
        "width = y.shape[1]\n",
        "\n",
        "X = applyPCA(X, numComponents= pca_components)\n",
        "X = padWithZeros(X, patch_size//2)\n",
        "\n",
        "# 逐像素预测类别\n",
        "outputs = np.zeros((height,width))\n",
        "for i in range(height):\n",
        "    for j in range(width):\n",
        "        if int(y[i,j]) == 0:\n",
        "            continue\n",
        "        else :\n",
        "            image_patch = X[i:i+patch_size, j:j+patch_size, :]\n",
        "            image_patch = image_patch.reshape(1,image_patch.shape[0],image_patch.shape[1], image_patch.shape[2], 1)\n",
        "            X_test_image = torch.FloatTensor(image_patch.transpose(0, 4, 3, 1, 2)).to(device)                                   \n",
        "            prediction = net(X_test_image)\n",
        "            prediction = np.argmax(prediction.detach().cpu().numpy(), axis=1)\n",
        "            outputs[i][j] = prediction+1\n",
        "    if i % 20 == 0:\n",
        "        print('... ... row ', i, ' handling ... ...')"
      ],
      "execution_count": null,
      "outputs": [
        {
          "output_type": "stream",
          "text": [
            "... ... row  0  handling ... ...\n",
            "... ... row  20  handling ... ...\n",
            "... ... row  40  handling ... ...\n",
            "... ... row  60  handling ... ...\n",
            "... ... row  80  handling ... ...\n",
            "... ... row  100  handling ... ...\n",
            "... ... row  120  handling ... ...\n",
            "... ... row  140  handling ... ...\n"
          ],
          "name": "stdout"
        }
      ]
    },
    {
      "cell_type": "code",
      "metadata": {
        "id": "6JBqjG-dvdz3",
        "colab_type": "code",
        "colab": {
          "base_uri": "https://localhost:8080/",
          "height": 323
        },
        "outputId": "81232ec6-aa85-44d1-f631-56f8d7d7d21c"
      },
      "source": [
        "predict_image = spectral.imshow(classes = outputs.astype(int),figsize =(5,5))"
      ],
      "execution_count": null,
      "outputs": [
        {
          "output_type": "display_data",
          "data": {
            "image/png": "[encoded data removed]",
            "text/plain": [
              "<Figure size 360x360 with 1 Axes>"
            ]
          },
          "metadata": {
            "tags": [],
            "needs_background": "light"
          }
        }
      ]
    }
  ]
}